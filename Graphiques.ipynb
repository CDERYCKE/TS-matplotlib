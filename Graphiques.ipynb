{
 "cells": [
  {
   "cell_type": "markdown",
   "metadata": {},
   "source": [
    "# Python en Physique-Chimie - Tracé d'un graphique avec matplotlib"
   ]
  },
  {
   "cell_type": "markdown",
   "metadata": {},
   "source": [
    "On va utiliser les mesures du TP sérum physiologique pour découvrir le tracé d'un graphique avec python et la bibliothèque matplotlib."
   ]
  },
  {
   "cell_type": "markdown",
   "metadata": {},
   "source": [
    "On commence par importer la bibliothèque matplotlib qui contient tous les outils nécessaires."
   ]
  },
  {
   "cell_type": "markdown",
   "metadata": {},
   "source": [
    "<div class=\"alert alert-info\" role=\"alert\">\n",
    "  <strong>Travail à faire sur le notebook : </strong> <br>\n",
    "    Pour les cellules de code suivantes, appuyez sur <strong>shift entrée </strong>pour lancer le code Python contenu chaque cellule\n",
    "</div>"
   ]
  },
  {
   "cell_type": "code",
   "execution_count": null,
   "metadata": {},
   "outputs": [],
   "source": [
    "import matplotlib.pyplot as plt"
   ]
  },
  {
   "cell_type": "markdown",
   "metadata": {},
   "source": [
    "On crée ensuite 2 listes avec les données du TP.  \n",
    "Les listes sont des données entre crochets. Attention la virgule des nombres décimaux est à remlpacer par un point."
   ]
  },
  {
   "cell_type": "code",
   "execution_count": null,
   "metadata": {},
   "outputs": [],
   "source": [
    "c_fille =  [0, 0.002 , 0.004 , 0.006 , 0.008 , 0.010]   # Données en abscisse en mol/L\n",
    "conductivité = [0, 0.275 , 0.375 , 0.575 , 0.977 , 1.256] # Données en ordonnée en mS/cm\n",
    "\n",
    "plt.plot(c_fille, conductivité)       # Tracé de la courbe\n",
    "plt.show()  "
   ]
  },
  {
   "cell_type": "markdown",
   "metadata": {},
   "source": [
    "Améliorons ce premier graphique :  \n",
    "Lire la case ci-dessous et modifier titre et axes.\n",
    "* pour changer de couleur : r pour rouge, g pour vert, b pour bleu, y pour jaune, k pour noir  \n",
    "* pour changer de forme : o pourdesronds, + pour des plus, * pour des croix, s pour des carrés et ^ pour des triangles  \n",
    "* pour relier les points « à la main » en pointillés : rajouter linestyle = ': ' ou '-' pour un train plein ou rien pour ne pas les relier !"
   ]
  },
  {
   "cell_type": "code",
   "execution_count": null,
   "metadata": {},
   "outputs": [],
   "source": [
    "plt.plot(c_fille, conductivité, 'x', color='red')     # Tracé de la courbe\n",
    "plt.title('Titre à modifier')  # Ajout d'un titre\n",
    "plt.xlabel('x à modifier')         # Nom de la grandeur en abscisse\n",
    "plt.ylabel('y à modifier')         # Nom de la grandeur en ordonnée\n",
    "plt.grid()              # Ajout d'une grille\n",
    "plt.show()  "
   ]
  },
  {
   "cell_type": "markdown",
   "metadata": {},
   "source": [
    "# Obtenir la droite de modélisation"
   ]
  },
  {
   "cell_type": "markdown",
   "metadata": {},
   "source": [
    "les points de mesure sont alignés, on souhaite donc modéliser par une droite passant par l'origine."
   ]
  },
  {
   "cell_type": "code",
   "execution_count": null,
   "metadata": {},
   "outputs": [],
   "source": [
    "import numpy as np # pour se servir des tableaux de nombres (plus pratique) il faut importer numpy\n",
    "from scipy.stats import linregress # pour se servir de la régression linéaire il faut l'importer à partir de scipy"
   ]
  },
  {
   "cell_type": "code",
   "execution_count": null,
   "metadata": {},
   "outputs": [],
   "source": [
    "concentrations=np.array(c_fille) # transforme la liste en tableau numpy appelés array\n",
    "sigma = np.array(conductivité)"
   ]
  },
  {
   "cell_type": "code",
   "execution_count": null,
   "metadata": {},
   "outputs": [],
   "source": [
    "(coeff,intercept,R_value,_,_)=linregress(concentrations,sigma) # permet de faire la régression linéaire\n",
    "# retourne le coefficient directeur = coeff,\n",
    "# l'ordonnée à l'origine = intercept,\n",
    "# le coefficient de corrélation R = R_value\n",
    "\n",
    "R_value**2 # pour obtenir le coefficient de détermination (R au carré)"
   ]
  },
  {
   "cell_type": "markdown",
   "metadata": {},
   "source": [
    "On va maintenant créer un tableau contenant les valeurs modélisées afin de tracer la droite de modélisation.  \n",
    "L'utilisation de tableaux numpy (array) rend cela très simple : "
   ]
  },
  {
   "cell_type": "code",
   "execution_count": null,
   "metadata": {},
   "outputs": [],
   "source": [
    "sigma_modele=coeff*concentrations # on multiplie en une seul ligne de code toutes les valeurs du tableau concentrations par la valeur du coefficient directeur"
   ]
  },
  {
   "cell_type": "markdown",
   "metadata": {},
   "source": [
    "On dispose maintenant de 2 tableaux de données pour la droite de modélisation : concentrations et sigma_modele  \n",
    "On va pouvoir tracer le graphique :"
   ]
  },
  {
   "cell_type": "code",
   "execution_count": null,
   "metadata": {},
   "outputs": [],
   "source": [
    "plt.plot(concentrations, sigma, 'x', color='red')     # Tracé des points expérimentaux\n",
    "plt.plot(concentrations,sigma_modele,'-') # Tracé de la droite de modélisation\n",
    "plt.title('Bilan du TP dosage par étalonnage (conductimétrie)')  # Ajout d'un titre\n",
    "plt.xlabel('concentration (mol/L)')         # Nom de la grandeur en abscisse\n",
    "plt.ylabel('conductivité (mS/cm)')         # Nom de la grandeur en ordonnée\n",
    "plt.grid()              # Ajout d'une grille\n",
    "plt.show()"
   ]
  },
  {
   "cell_type": "markdown",
   "metadata": {},
   "source": [
    "Enfin on récupère si nécessaire la valeur du coefficient directeur pour l'équation de la droite de modélisation :"
   ]
  },
  {
   "cell_type": "code",
   "execution_count": null,
   "metadata": {},
   "outputs": [],
   "source": [
    "coeff"
   ]
  },
  {
   "cell_type": "markdown",
   "metadata": {},
   "source": [
    "## A vous de jouer !  \n",
    "avec des copier coller et un peu de réflexion, entrer ci-dessous l'ensemble du code qui permet d'afficher le graphique pour un dosage par étalonnage (spectrophotométrie).  \n",
    "les bibliothèques nécessaires sont déjà importées.\n",
    "\n",
    "vérifier ainsi que vous êtes capable de  :\n",
    "* retrouver le coefficient de détermination  \n",
    "* retrouver le coefficient directeur de la droite de modélisation\n",
    "* dessiner le bon graphique"
   ]
  },
  {
   "cell_type": "code",
   "execution_count": null,
   "metadata": {},
   "outputs": [],
   "source": [
    "concentrations_fille = np. array([0, 0.04 , 0.08 , 0.12 , 0.16 ]) # concentration en g/L déjà sous forme de tableau numpy\n",
    "absorbance = np.array([0, 0.657 , 1.293 , 1.553 , 2.177 ])"
   ]
  },
  {
   "cell_type": "markdown",
   "metadata": {},
   "source": [
    "<div class=\"alert alert-warning\" role=\"alert\">\n",
    "    <strong> Travail à faire : </strong> <br>\n",
    "    --> Insérer les lignes de code permettant de répondre au problème posé\n",
    "</div>"
   ]
  },
  {
   "cell_type": "code",
   "execution_count": null,
   "metadata": {},
   "outputs": [],
   "source": []
  },
  {
   "cell_type": "code",
   "execution_count": null,
   "metadata": {},
   "outputs": [],
   "source": []
  },
  {
   "cell_type": "code",
   "execution_count": null,
   "metadata": {},
   "outputs": [],
   "source": []
  },
  {
   "cell_type": "code",
   "execution_count": null,
   "metadata": {},
   "outputs": [],
   "source": []
  },
  {
   "cell_type": "code",
   "execution_count": null,
   "metadata": {},
   "outputs": [],
   "source": []
  },
  {
   "cell_type": "markdown",
   "metadata": {},
   "source": [
    "<div class=\"alert alert-success\" role=\"alert\">\n",
    "<details>\n",
    "<summary><b>Vérifier la réussite (en cliquant ici ou sur la flèche à gauche)</b></summary>\n",
    "<p>\n",
    "    coeff =13.125\n",
    "    \n",
    "</details>\n",
    "</div>"
   ]
  },
  {
   "cell_type": "markdown",
   "metadata": {},
   "source": [
    "<div class=\"alert alert-success\" role=\"alert\">\n",
    " <strong> Le travail est terminé !</strong> <br>\n",
    "</div>"
   ]
  }
 ],
 "metadata": {
  "kernelspec": {
   "display_name": "Python 3",
   "language": "python",
   "name": "python3"
  },
  "language_info": {
   "codemirror_mode": {
    "name": "ipython",
    "version": 3
   },
   "file_extension": ".py",
   "mimetype": "text/x-python",
   "name": "python",
   "nbconvert_exporter": "python",
   "pygments_lexer": "ipython3",
   "version": "3.7.9"
  }
 },
 "nbformat": 4,
 "nbformat_minor": 4
}
